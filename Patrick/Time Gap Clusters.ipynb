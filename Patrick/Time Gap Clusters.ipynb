{
 "cells": [
  {
   "cell_type": "code",
   "execution_count": 11,
   "id": "121003b7",
   "metadata": {},
   "outputs": [],
   "source": [
    "import pandas as pd\n",
    "from ipywidgets import interact, IntSlider\n",
    "import matplotlib.pyplot as plt\n",
    "import seaborn as sns"
   ]
  },
  {
   "cell_type": "code",
   "execution_count": 12,
   "id": "b1f9c774",
   "metadata": {},
   "outputs": [],
   "source": [
    "# read the files\n",
    "results_data_file = pd.read_csv(r\"..\\cleaned_data\\f1db-races-race-results-CLEANED.csv\")\n",
    "quals_data_file = pd.read_csv(r\"..\\cleaned_data\\f1db-races-qualifying-results-CLEANED.csv\")\n",
    "\n",
    "# create list of unique race ids\n",
    "race_id_list = results_data_file['raceId'].unique()"
   ]
  },
  {
   "cell_type": "code",
   "execution_count": 13,
   "id": "5dc178d6",
   "metadata": {},
   "outputs": [],
   "source": [
    "# Compute the difference between Fastest Qualifying Time grid and the Starting Grid\n",
    "\n",
    "time_data = quals_data_file[quals_data_file['q1Millis']>0] # get the races which have the qualifying data we need\n",
    "new_race_id_list = time_data['raceId'].unique()\n",
    "\n",
    "qs_difference = {} # here 'qs difference' stands for 'Qualifying-Starting difference' \n",
    "\n",
    "for race_id in new_race_id_list:\n",
    "    qual_data = quals_data_file[quals_data_file['raceId'] == race_id]\n",
    "    driver_number_data = list(qual_data['driverNumber'])\n",
    "    q1_time_data = list(qual_data['q1Millis'])\n",
    "    q2_time_data = list(qual_data['q2Millis'])\n",
    "    q3_time_data = list(qual_data['q3Millis'])\n",
    "\n",
    "    min_qual_time_data = {}\n",
    "    min_qual_time_list = []\n",
    "    num_of_drivers = len(q1_time_data)\n",
    "    for x in range(num_of_drivers):\n",
    "        min_qual_time = min(q1_time_data[x],q2_time_data[x],q3_time_data[x])\n",
    "        min_qual_time_data[x] = min_qual_time\n",
    "        min_qual_time_list.append(min_qual_time)\n",
    "\n",
    "    fastest_qual_time_positions = sorted(min_qual_time_list)\n",
    "    position_difference = 0\n",
    "\n",
    "    for y in range(num_of_drivers):\n",
    "        if fastest_qual_time_positions[y] != min_qual_time_data[y]:\n",
    "            driver_difference = abs(y - min_qual_time_list.index(fastest_qual_time_positions[y]))\n",
    "            position_difference += driver_difference\n",
    "    \n",
    "    qs_difference[race_id] = position_difference"
   ]
  },
  {
   "cell_type": "code",
   "execution_count": 23,
   "id": "819ce646",
   "metadata": {},
   "outputs": [],
   "source": [
    "# Writing methods to determine race time clustering\n",
    "\n",
    "def new_time_open_ball(time, time_list, time_gap):        # Get sets of open balls with radius 1 second and basepoint each time\n",
    "    new_open_ball = {time}\n",
    "\n",
    "    for other_time in time_list:\n",
    "        if abs(time - other_time) < time_gap: \n",
    "            new_open_ball.add(other_time)\n",
    "\n",
    "    return new_open_ball\n",
    "\n",
    "def get_clusters(set_of_times):                 # Generate all the clusters of times within 1 second of each other       \n",
    "    time_clusters = []\n",
    "\n",
    "    for set_1 in set_of_times:\n",
    "        if len(time_clusters) > 0: \n",
    "            cluster_union = set.union(*time_clusters)\n",
    "        else: \n",
    "            cluster_union = set()\n",
    "\n",
    "        if set_1 & cluster_union: continue\n",
    "\n",
    "        cluster = set_1\n",
    "        for set_2 in set_of_times:\n",
    "            if cluster & set_2:\n",
    "                cluster = cluster | set_2\n",
    "        time_clusters.append(cluster)\n",
    "\n",
    "    return time_clusters\n",
    "\n",
    "def sqmean_drivers_per_cluster(clusters_of_time, num_of_drivers):     # Gets squared mean number of drivers per cluster\n",
    "    squared_mean = 0\n",
    "\n",
    "    for cluster in clusters_of_time:\n",
    "        num_of_drivers_in_cluster = len(cluster)\n",
    "        squared_mean += num_of_drivers_in_cluster**2\n",
    "    \n",
    "    squared_mean = squared_mean / num_of_drivers\n",
    "\n",
    "    return squared_mean\n",
    "\n",
    "def sqmean_drivers_per_cluster_D2(clusters_of_time, num_of_drivers):     # Gets squared mean number of drivers per cluster\n",
    "    squared_mean = 0\n",
    "\n",
    "    for cluster in clusters_of_time:\n",
    "        num_of_drivers_in_cluster = len(cluster)\n",
    "        squared_mean += num_of_drivers_in_cluster**2\n",
    "    \n",
    "    squared_mean = squared_mean / num_of_drivers**2\n",
    "\n",
    "    return squared_mean\n",
    "\n",
    "def clustering_vs_raceid_plot(time_gap):\n",
    "    cluster_sqmean = []\n",
    "\n",
    "    for race_id in race_id_list:\n",
    "        race_data = results_data_file[results_data_file['raceId'] == race_id]\n",
    "        necessary_data = race_data[race_data['timeMillis']>0]\n",
    "        time_data = list(necessary_data['timeMillis'])\n",
    "        time_sets = [new_time_open_ball(time, time_data, time_gap) for time in time_data]\n",
    "        num_drivers = len(time_data)\n",
    "\n",
    "        race_time_clusters = get_clusters(time_sets)\n",
    "        cluster_sqmean.append((race_id, sqmean_drivers_per_cluster(race_time_clusters, num_drivers)))\n",
    "\n",
    "    cluster_data = pd.DataFrame(cluster_sqmean, columns=[\"raceId\", \"cluster squared mean\"])\n",
    "    plt.figure(figsize=(10, 6))\n",
    "    sns.regplot(data=cluster_data, x=\"raceId\", y=\"cluster squared mean\",\n",
    "                order=1, line_kws={'color':'red', \"linewidth\": 2})\n",
    "    plt.title(f\"Time Clustering Squared Mean (Time Gap = {time_gap} ms)\")\n",
    "    plt.xlabel(\"Race ID\")\n",
    "    plt.ylabel(\"Cluster Squared Mean\")\n",
    "    plt.ylim(0, 6)\n",
    "    plt.show()\n",
    "\n",
    "def clustering_vs_raceid_plot_D2(time_gap):\n",
    "    cluster_sqmean = []\n",
    "\n",
    "    for race_id in race_id_list:\n",
    "        race_data = results_data_file[results_data_file['raceId'] == race_id]\n",
    "        necessary_data = race_data[race_data['timeMillis']>0]\n",
    "        time_data = list(necessary_data['timeMillis'])\n",
    "        time_sets = [new_time_open_ball(time, time_data, time_gap) for time in time_data]\n",
    "        num_drivers = len(time_data)\n",
    "\n",
    "        race_time_clusters = get_clusters(time_sets)\n",
    "        cluster_sqmean.append((race_id, sqmean_drivers_per_cluster_D2(race_time_clusters, num_drivers)))\n",
    "\n",
    "    cluster_data = pd.DataFrame(cluster_sqmean, columns=[\"raceId\", \"cluster squared mean\"])\n",
    "    plt.figure(figsize=(10, 6))\n",
    "    sns.regplot(data=cluster_data, x=\"raceId\", y=\"cluster squared mean\",\n",
    "                order=1, line_kws={'color':'red', \"linewidth\": 2})\n",
    "    plt.title(f\"Time Clustering Squared Mean D^2 (Time Gap = {time_gap} ms)\")\n",
    "    plt.xlabel(\"Race ID\")\n",
    "    plt.ylabel(\"Cluster Squared Mean\")\n",
    "    plt.ylim(0, 1)\n",
    "    plt.show()\n",
    "\n",
    "def clustering_vs_qsdiff_plot(time_gap):\n",
    "    qs_cluster_sqmean = []\n",
    "\n",
    "    for race_id in new_race_id_list:\n",
    "        race_data = results_data_file[results_data_file['raceId'] == race_id]\n",
    "        necessary_data = race_data[race_data['timeMillis'] > 0]\n",
    "        time_data = list(necessary_data['timeMillis'])\n",
    "        time_sets = [new_time_open_ball(time, time_data, time_gap) for time in time_data]\n",
    "        num_drivers = len(time_data)\n",
    "\n",
    "        race_time_clusters = get_clusters(time_sets)\n",
    "        qs_cluster_sqmean.append((qs_difference[race_id], sqmean_drivers_per_cluster(race_time_clusters, num_drivers)))\n",
    "\n",
    "    qs_cluster_data = pd.DataFrame(qs_cluster_sqmean, columns=[\"qs difference\", \"cluster squared mean\"])\n",
    "    plt.figure(figsize=(10, 6))\n",
    "    sns.regplot(data=qs_cluster_data, x=\"qs difference\", y=\"cluster squared mean\",\n",
    "                order=1, line_kws={'color':'red', \"linewidth\": 2})\n",
    "    plt.title(f\"Time Clustering Squared Mean (Time Gap = {time_gap} ms)\")\n",
    "    plt.xlabel(\"QS Difference\")\n",
    "    plt.ylabel(\"Cluster Squared Mean\")\n",
    "    plt.ylim(0, 6)\n",
    "    plt.show()\n",
    "\n",
    "def clustering_vs_qsdiff_plot_D2(time_gap):\n",
    "    qs_cluster_sqmean = []\n",
    "\n",
    "    for race_id in new_race_id_list:\n",
    "        race_data = results_data_file[results_data_file['raceId'] == race_id]\n",
    "        necessary_data = race_data[race_data['timeMillis'] > 0]\n",
    "        time_data = list(necessary_data['timeMillis'])\n",
    "        time_sets = [new_time_open_ball(time, time_data, time_gap) for time in time_data]\n",
    "        num_drivers = len(time_data)\n",
    "\n",
    "        race_time_clusters = get_clusters(time_sets)\n",
    "        qs_cluster_sqmean.append((qs_difference[race_id], sqmean_drivers_per_cluster_D2(race_time_clusters, num_drivers)))\n",
    "\n",
    "    qs_cluster_data = pd.DataFrame(qs_cluster_sqmean, columns=[\"qs difference\", \"cluster squared mean\"])\n",
    "    plt.figure(figsize=(10, 6))\n",
    "    sns.regplot(data=qs_cluster_data, x=\"qs difference\", y=\"cluster squared mean\",\n",
    "                order=1, line_kws={'color':'red', \"linewidth\": 2})\n",
    "    plt.title(f\"Time Clustering Squared Mean D^2 (Time Gap = {time_gap} ms)\")\n",
    "    plt.xlabel(\"QS Difference\")\n",
    "    plt.ylabel(\"Cluster Squared Mean\")\n",
    "    plt.ylim(0, 1)\n",
    "    plt.show()"
   ]
  },
  {
   "cell_type": "code",
   "execution_count": 19,
   "id": "b6045ff0",
   "metadata": {},
   "outputs": [
    {
     "data": {
      "application/vnd.jupyter.widget-view+json": {
       "model_id": "296a1f0873954aa4914c85dd9cd6efe0",
       "version_major": 2,
       "version_minor": 0
      },
      "text/plain": [
       "interactive(children=(IntSlider(value=1000, description='time_gap', max=4000, min=100, step=100), Output()), _…"
      ]
     },
     "metadata": {},
     "output_type": "display_data"
    },
    {
     "data": {
      "text/plain": [
       "<function __main__.clustering_vs_raceid_plot(time_gap)>"
      ]
     },
     "execution_count": 19,
     "metadata": {},
     "output_type": "execute_result"
    }
   ],
   "source": [
    "# Interactive Plot Cluster Squared Mean vs Race ID\n",
    "interact(clustering_vs_raceid_plot, time_gap=IntSlider(min=100, max=4000, step=100, value=1000))"
   ]
  },
  {
   "cell_type": "code",
   "execution_count": 24,
   "id": "9d37dc30",
   "metadata": {},
   "outputs": [
    {
     "data": {
      "application/vnd.jupyter.widget-view+json": {
       "model_id": "16a6f85fdbe241f190bde43ea2a2d3e0",
       "version_major": 2,
       "version_minor": 0
      },
      "text/plain": [
       "interactive(children=(IntSlider(value=1000, description='time_gap', max=4000, min=100, step=100), Output()), _…"
      ]
     },
     "metadata": {},
     "output_type": "display_data"
    },
    {
     "data": {
      "text/plain": [
       "<function __main__.clustering_vs_raceid_plot_D2(time_gap)>"
      ]
     },
     "execution_count": 24,
     "metadata": {},
     "output_type": "execute_result"
    }
   ],
   "source": [
    "# Interactive Plot Cluster Squared Mean D^2 vs Race ID\n",
    "interact(clustering_vs_raceid_plot_D2, time_gap=IntSlider(min=100, max=4000, step=100, value=1000))"
   ]
  },
  {
   "cell_type": "code",
   "execution_count": null,
   "id": "b6cb86de",
   "metadata": {},
   "outputs": [
    {
     "data": {
      "application/vnd.jupyter.widget-view+json": {
       "model_id": "5da7656b43194b12b2664f0087853f45",
       "version_major": 2,
       "version_minor": 0
      },
      "text/plain": [
       "interactive(children=(IntSlider(value=1000, description='time_gap', max=4000, min=100, step=100), Output()), _…"
      ]
     },
     "metadata": {},
     "output_type": "display_data"
    },
    {
     "data": {
      "text/plain": [
       "<function __main__.clustering_vs_qsdiff_plot(time_gap)>"
      ]
     },
     "execution_count": 20,
     "metadata": {},
     "output_type": "execute_result"
    }
   ],
   "source": [
    "# Interactive Plot Cluster Squared Mean vs QS Difference\n",
    "interact(clustering_vs_qsdiff_plot, time_gap=IntSlider(min=100, max=4000, step=100, value=1000))"
   ]
  },
  {
   "cell_type": "code",
   "execution_count": 25,
   "id": "e5f95a5b",
   "metadata": {},
   "outputs": [
    {
     "data": {
      "application/vnd.jupyter.widget-view+json": {
       "model_id": "b32329d54a88448ea4dedd7acd5cf4b6",
       "version_major": 2,
       "version_minor": 0
      },
      "text/plain": [
       "interactive(children=(IntSlider(value=1000, description='time_gap', max=4000, min=100, step=100), Output()), _…"
      ]
     },
     "metadata": {},
     "output_type": "display_data"
    },
    {
     "data": {
      "text/plain": [
       "<function __main__.clustering_vs_qsdiff_plot_D2(time_gap)>"
      ]
     },
     "execution_count": 25,
     "metadata": {},
     "output_type": "execute_result"
    }
   ],
   "source": [
    "# Interactive Plot Cluster Squared Mean vs Race ID\n",
    "interact(clustering_vs_qsdiff_plot_D2, time_gap=IntSlider(min=100, max=4000, step=100, value=1000))"
   ]
  }
 ],
 "metadata": {
  "kernelspec": {
   "display_name": "base",
   "language": "python",
   "name": "python3"
  },
  "language_info": {
   "codemirror_mode": {
    "name": "ipython",
    "version": 3
   },
   "file_extension": ".py",
   "mimetype": "text/x-python",
   "name": "python",
   "nbconvert_exporter": "python",
   "pygments_lexer": "ipython3",
   "version": "3.12.7"
  }
 },
 "nbformat": 4,
 "nbformat_minor": 5
}
